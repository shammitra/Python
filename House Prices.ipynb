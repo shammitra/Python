{
 "cells": [
  {
   "cell_type": "code",
   "execution_count": 106,
   "id": "f49e06cd",
   "metadata": {},
   "outputs": [],
   "source": [
    "import pandas as pd\n",
    "import numpy as np\n",
    "import seaborn as sns\n",
    "import matplotlib.pyplot as plt\n",
    "import statistics\n",
    "import math\n",
    "from scipy.stats import sem\n",
    "from sklearn.linear_model import LinearRegression"
   ]
  },
  {
   "cell_type": "code",
   "execution_count": 189,
   "id": "b06588e6",
   "metadata": {},
   "outputs": [],
   "source": [
    "data = pd.read_csv(\"UK-HPI-full-file-2021-04.csv\")"
   ]
  },
  {
   "cell_type": "code",
   "execution_count": 190,
   "id": "8790d79a",
   "metadata": {},
   "outputs": [],
   "source": [
    "yorkshire = data[data[\"RegionName\"]==\"Yorkshire and The Humber\"]\n",
    "yorkshire_copy = yorkshire.copy()"
   ]
  },
  {
   "cell_type": "code",
   "execution_count": 191,
   "id": "97ae53a2",
   "metadata": {},
   "outputs": [
    {
     "data": {
      "text/html": [
       "<div>\n",
       "<style scoped>\n",
       "    .dataframe tbody tr th:only-of-type {\n",
       "        vertical-align: middle;\n",
       "    }\n",
       "\n",
       "    .dataframe tbody tr th {\n",
       "        vertical-align: top;\n",
       "    }\n",
       "\n",
       "    .dataframe thead th {\n",
       "        text-align: right;\n",
       "    }\n",
       "</style>\n",
       "<table border=\"1\" class=\"dataframe\">\n",
       "  <thead>\n",
       "    <tr style=\"text-align: right;\">\n",
       "      <th></th>\n",
       "      <th>Date</th>\n",
       "      <th>RegionName</th>\n",
       "      <th>AreaCode</th>\n",
       "      <th>AveragePrice</th>\n",
       "      <th>Index</th>\n",
       "      <th>IndexSA</th>\n",
       "      <th>1m%Change</th>\n",
       "      <th>12m%Change</th>\n",
       "      <th>AveragePriceSA</th>\n",
       "      <th>SalesVolume</th>\n",
       "      <th>...</th>\n",
       "      <th>NewPrice</th>\n",
       "      <th>NewIndex</th>\n",
       "      <th>New1m%Change</th>\n",
       "      <th>New12m%Change</th>\n",
       "      <th>NewSalesVolume</th>\n",
       "      <th>OldPrice</th>\n",
       "      <th>OldIndex</th>\n",
       "      <th>Old1m%Change</th>\n",
       "      <th>Old12m%Change</th>\n",
       "      <th>OldSalesVolume</th>\n",
       "    </tr>\n",
       "  </thead>\n",
       "  <tbody>\n",
       "    <tr>\n",
       "      <th>132720</th>\n",
       "      <td>01/04/1968</td>\n",
       "      <td>Yorkshire and The Humber</td>\n",
       "      <td>E12000003</td>\n",
       "      <td>2712.015577</td>\n",
       "      <td>1.991658</td>\n",
       "      <td>NaN</td>\n",
       "      <td>0.0</td>\n",
       "      <td>NaN</td>\n",
       "      <td>NaN</td>\n",
       "      <td>NaN</td>\n",
       "      <td>...</td>\n",
       "      <td>NaN</td>\n",
       "      <td>NaN</td>\n",
       "      <td>NaN</td>\n",
       "      <td>NaN</td>\n",
       "      <td>NaN</td>\n",
       "      <td>NaN</td>\n",
       "      <td>NaN</td>\n",
       "      <td>NaN</td>\n",
       "      <td>NaN</td>\n",
       "      <td>NaN</td>\n",
       "    </tr>\n",
       "    <tr>\n",
       "      <th>132721</th>\n",
       "      <td>01/05/1968</td>\n",
       "      <td>Yorkshire and The Humber</td>\n",
       "      <td>E12000003</td>\n",
       "      <td>2712.015577</td>\n",
       "      <td>1.991658</td>\n",
       "      <td>NaN</td>\n",
       "      <td>0.0</td>\n",
       "      <td>NaN</td>\n",
       "      <td>NaN</td>\n",
       "      <td>NaN</td>\n",
       "      <td>...</td>\n",
       "      <td>NaN</td>\n",
       "      <td>NaN</td>\n",
       "      <td>NaN</td>\n",
       "      <td>NaN</td>\n",
       "      <td>NaN</td>\n",
       "      <td>NaN</td>\n",
       "      <td>NaN</td>\n",
       "      <td>NaN</td>\n",
       "      <td>NaN</td>\n",
       "      <td>NaN</td>\n",
       "    </tr>\n",
       "  </tbody>\n",
       "</table>\n",
       "<p>2 rows × 54 columns</p>\n",
       "</div>"
      ],
      "text/plain": [
       "              Date                RegionName   AreaCode  AveragePrice  \\\n",
       "132720  01/04/1968  Yorkshire and The Humber  E12000003   2712.015577   \n",
       "132721  01/05/1968  Yorkshire and The Humber  E12000003   2712.015577   \n",
       "\n",
       "           Index  IndexSA  1m%Change  12m%Change  AveragePriceSA  SalesVolume  \\\n",
       "132720  1.991658      NaN        0.0         NaN             NaN          NaN   \n",
       "132721  1.991658      NaN        0.0         NaN             NaN          NaN   \n",
       "\n",
       "        ...  NewPrice  NewIndex  New1m%Change  New12m%Change  NewSalesVolume  \\\n",
       "132720  ...       NaN       NaN           NaN            NaN             NaN   \n",
       "132721  ...       NaN       NaN           NaN            NaN             NaN   \n",
       "\n",
       "        OldPrice  OldIndex  Old1m%Change  Old12m%Change  OldSalesVolume  \n",
       "132720       NaN       NaN           NaN            NaN             NaN  \n",
       "132721       NaN       NaN           NaN            NaN             NaN  \n",
       "\n",
       "[2 rows x 54 columns]"
      ]
     },
     "execution_count": 191,
     "metadata": {},
     "output_type": "execute_result"
    }
   ],
   "source": [
    "yorkshire.head(2)"
   ]
  },
  {
   "cell_type": "code",
   "execution_count": 192,
   "id": "2b93ec79",
   "metadata": {},
   "outputs": [
    {
     "data": {
      "text/html": [
       "<div>\n",
       "<style scoped>\n",
       "    .dataframe tbody tr th:only-of-type {\n",
       "        vertical-align: middle;\n",
       "    }\n",
       "\n",
       "    .dataframe tbody tr th {\n",
       "        vertical-align: top;\n",
       "    }\n",
       "\n",
       "    .dataframe thead th {\n",
       "        text-align: right;\n",
       "    }\n",
       "</style>\n",
       "<table border=\"1\" class=\"dataframe\">\n",
       "  <thead>\n",
       "    <tr style=\"text-align: right;\">\n",
       "      <th></th>\n",
       "      <th>Date</th>\n",
       "      <th>RegionName</th>\n",
       "      <th>AreaCode</th>\n",
       "      <th>AveragePrice</th>\n",
       "      <th>Index</th>\n",
       "      <th>IndexSA</th>\n",
       "      <th>1m%Change</th>\n",
       "      <th>12m%Change</th>\n",
       "      <th>AveragePriceSA</th>\n",
       "      <th>SalesVolume</th>\n",
       "      <th>...</th>\n",
       "      <th>NewPrice</th>\n",
       "      <th>NewIndex</th>\n",
       "      <th>New1m%Change</th>\n",
       "      <th>New12m%Change</th>\n",
       "      <th>NewSalesVolume</th>\n",
       "      <th>OldPrice</th>\n",
       "      <th>OldIndex</th>\n",
       "      <th>Old1m%Change</th>\n",
       "      <th>Old12m%Change</th>\n",
       "      <th>OldSalesVolume</th>\n",
       "    </tr>\n",
       "  </thead>\n",
       "  <tbody>\n",
       "    <tr>\n",
       "      <th>132720</th>\n",
       "      <td>01/04/1968</td>\n",
       "      <td>Yorkshire and The Humber</td>\n",
       "      <td>E12000003</td>\n",
       "      <td>2712.015577</td>\n",
       "      <td>1.991658</td>\n",
       "      <td>32.91052</td>\n",
       "      <td>0.0</td>\n",
       "      <td>5.586592</td>\n",
       "      <td>44813.83391</td>\n",
       "      <td>4489.0</td>\n",
       "      <td>...</td>\n",
       "      <td>55307.77007</td>\n",
       "      <td>33.306473</td>\n",
       "      <td>0.56757</td>\n",
       "      <td>1.071304</td>\n",
       "      <td>494.0</td>\n",
       "      <td>44127.76873</td>\n",
       "      <td>32.873378</td>\n",
       "      <td>-0.803625</td>\n",
       "      <td>-3.64308</td>\n",
       "      <td>3995.0</td>\n",
       "    </tr>\n",
       "    <tr>\n",
       "      <th>132721</th>\n",
       "      <td>01/05/1968</td>\n",
       "      <td>Yorkshire and The Humber</td>\n",
       "      <td>E12000003</td>\n",
       "      <td>2712.015577</td>\n",
       "      <td>1.991658</td>\n",
       "      <td>32.91052</td>\n",
       "      <td>0.0</td>\n",
       "      <td>5.586592</td>\n",
       "      <td>44813.83391</td>\n",
       "      <td>4489.0</td>\n",
       "      <td>...</td>\n",
       "      <td>55307.77007</td>\n",
       "      <td>33.306473</td>\n",
       "      <td>0.56757</td>\n",
       "      <td>1.071304</td>\n",
       "      <td>494.0</td>\n",
       "      <td>44127.76873</td>\n",
       "      <td>32.873378</td>\n",
       "      <td>-0.803625</td>\n",
       "      <td>-3.64308</td>\n",
       "      <td>3995.0</td>\n",
       "    </tr>\n",
       "  </tbody>\n",
       "</table>\n",
       "<p>2 rows × 54 columns</p>\n",
       "</div>"
      ],
      "text/plain": [
       "              Date                RegionName   AreaCode  AveragePrice  \\\n",
       "132720  01/04/1968  Yorkshire and The Humber  E12000003   2712.015577   \n",
       "132721  01/05/1968  Yorkshire and The Humber  E12000003   2712.015577   \n",
       "\n",
       "           Index   IndexSA  1m%Change  12m%Change  AveragePriceSA  \\\n",
       "132720  1.991658  32.91052        0.0    5.586592     44813.83391   \n",
       "132721  1.991658  32.91052        0.0    5.586592     44813.83391   \n",
       "\n",
       "        SalesVolume  ...     NewPrice   NewIndex  New1m%Change  New12m%Change  \\\n",
       "132720       4489.0  ...  55307.77007  33.306473       0.56757       1.071304   \n",
       "132721       4489.0  ...  55307.77007  33.306473       0.56757       1.071304   \n",
       "\n",
       "        NewSalesVolume     OldPrice   OldIndex  Old1m%Change  Old12m%Change  \\\n",
       "132720           494.0  44127.76873  32.873378     -0.803625       -3.64308   \n",
       "132721           494.0  44127.76873  32.873378     -0.803625       -3.64308   \n",
       "\n",
       "        OldSalesVolume  \n",
       "132720          3995.0  \n",
       "132721          3995.0  \n",
       "\n",
       "[2 rows x 54 columns]"
      ]
     },
     "execution_count": 192,
     "metadata": {},
     "output_type": "execute_result"
    }
   ],
   "source": [
    "yorkshire_copy.fillna(method='bfill', inplace=True)\n",
    "yorkshire_copy.head(2)"
   ]
  },
  {
   "cell_type": "markdown",
   "id": "8cf45538",
   "metadata": {},
   "source": [
    "## Measures of Central Tendency"
   ]
  },
  {
   "cell_type": "code",
   "execution_count": 193,
   "id": "d4b30bc3",
   "metadata": {},
   "outputs": [],
   "source": [
    "def calc_mean(df):\n",
    "    sum_of = sum(df)\n",
    "    len_of = len(df)\n",
    "    mean = round(sum_of / len_of,2)\n",
    "    return mean"
   ]
  },
  {
   "cell_type": "markdown",
   "id": "3e5b40de",
   "metadata": {},
   "source": [
    "*Calculate sample mean*"
   ]
  },
  {
   "cell_type": "code",
   "execution_count": 194,
   "id": "375a3dfc",
   "metadata": {},
   "outputs": [
    {
     "name": "stdout",
     "output_type": "stream",
     "text": [
      "The sample mean is £65833.91\n"
     ]
    }
   ],
   "source": [
    "print(\"The sample mean is £{mean}\".format(mean = calc_mean(yorkshire_copy['AveragePrice'])))"
   ]
  },
  {
   "cell_type": "markdown",
   "id": "fd15a57c",
   "metadata": {},
   "source": [
    "*Calculate sample median*"
   ]
  },
  {
   "cell_type": "code",
   "execution_count": 195,
   "id": "25ae7765",
   "metadata": {},
   "outputs": [
    {
     "name": "stdout",
     "output_type": "stream",
     "text": [
      "The sample median is £46681.67\n"
     ]
    }
   ],
   "source": [
    "print(\"The sample median is £{median}\".format(median=round(yorkshire_copy['AveragePrice'].median(),2)))"
   ]
  },
  {
   "cell_type": "markdown",
   "id": "fda76fb8",
   "metadata": {},
   "source": [
    "*A mean house price in Yorkshire is £65,833 and the median price is £46,681, but what is the standard error, i.e., how far from the population mean does the sample mean stray?*"
   ]
  },
  {
   "cell_type": "code",
   "execution_count": 196,
   "id": "07161d18",
   "metadata": {},
   "outputs": [
    {
     "name": "stdout",
     "output_type": "stream",
     "text": [
      "The population mean is £162712.48\n"
     ]
    }
   ],
   "source": [
    "print(\"The population mean is £{mean}\".format(mean = calc_mean(data['AveragePrice'])))"
   ]
  },
  {
   "cell_type": "markdown",
   "id": "72ca99b2",
   "metadata": {},
   "source": [
    "*We can now calculate the standard error. Standard error is calculated as the population standard deviation divided by the square root of the sample size. Therefore...*"
   ]
  },
  {
   "cell_type": "markdown",
   "id": "2a292159",
   "metadata": {},
   "source": [
    "## Calculate Standard Error"
   ]
  },
  {
   "cell_type": "code",
   "execution_count": 150,
   "id": "ee1ee6d0",
   "metadata": {},
   "outputs": [],
   "source": [
    "# df_pop = population dataframe, df_sam = sample dataframe\n",
    "\n",
    "def standard_error(df_pop, df_sam):\n",
    "    '''Standard error function: \n",
    "    df_pop is the population data (dataframe)\n",
    "    df_sam is the sample data (dataframe)\n",
    "    '''\n",
    "    pop_stdev = np.std(df_pop)\n",
    "    sam_len = len(df_sam)\n",
    "    return round(pop_stdev / math.sqrt(sam_len),2)"
   ]
  },
  {
   "cell_type": "code",
   "execution_count": 234,
   "id": "28a013ce",
   "metadata": {},
   "outputs": [
    {
     "name": "stdout",
     "output_type": "stream",
     "text": [
      "Standard Deviations\n",
      "-------------------\n",
      "\n",
      "Population data standard deviation: 108801\n",
      "Sameple data standard deviation: 56374\n",
      "\n",
      "Sizes\n",
      "-----\n",
      "\n",
      "The size of the population is: 133357\n",
      "The size of the sample is: 637\n",
      "\n",
      "Mean values\n",
      "-----------\n",
      "\n",
      "The population mean is: £162712.48\n",
      "The sample mean is: £65833.91\n",
      "\n",
      "Conclusion\n",
      "----------\n",
      "\n",
      "Standard error, calculated as 108801 divided by the square root of 637 (25.24), is 4310.86.\n",
      "\n",
      "Therefore, The mean of 68% of samples with 637 items is expected to fall between £158401.62 and £167023.34\n"
     ]
    }
   ],
   "source": [
    "pop_sd=round(np.std(data['AveragePrice']))\n",
    "sam_size=len(yorkshire_copy['AveragePrice'])\n",
    "pop_mean = calc_mean(data['AveragePrice'])\n",
    "sam_mean = calc_mean(yorkshire_copy['AveragePrice'])\n",
    "\n",
    "print(\"Standard Deviations\")\n",
    "print(\"-------------------\\n\")\n",
    "print(\"Population data standard deviation: {pop_sd}\".format(pop_sd=pop_sd))\n",
    "print(\"Sameple data standard deviation: {sam_data}\\n\".format(sam_data=round(np.std(yorkshire_copy['AveragePrice']))))\n",
    "\n",
    "print(\"Sizes\")\n",
    "print(\"-----\\n\")\n",
    "print(\"The size of the population is: {pop_size}\".format(pop_size=len(data['AveragePrice'])))\n",
    "print(\"The size of the sample is: {sam_size}\\n\".format(sam_size=sam_size))\n",
    "\n",
    "print(\"Mean values\")\n",
    "print(\"-----------\\n\")\n",
    "print(\"The population mean is: £{pop_mean}\".format(pop_mean=pop_mean))\n",
    "print(\"The sample mean is: £{sam_mean}\\n\".format(sam_mean=sam_mean))\n",
    "\n",
    "print(\"Conclusion\")\n",
    "print(\"----------\\n\")\n",
    "\n",
    "print(\"Standard error, calculated as {one} divided by the square root of {two} ({three}), is {four}.\\n\".format(one=pop_sd,two=sam_size,three=round(np.sqrt(sam_size),2),four=standard_error(data['AveragePrice'],yorkshire_copy['AveragePrice'])))\n",
    "print(\"Therefore, The mean of 68% of samples with {one} items is expected to fall between £{two} and £{three}\".format(one=sam_size,two=(round(pop_mean-standard_error(data['AveragePrice'],yorkshire_copy['AveragePrice']),2)),three=(round(pop_mean+standard_error(data['AveragePrice'],yorkshire_copy['AveragePrice']),2))))"
   ]
  },
  {
   "cell_type": "markdown",
   "id": "5ef04ed5",
   "metadata": {},
   "source": [
    "*68% of values is +/- one standard deviation from the population mean*"
   ]
  }
 ],
 "metadata": {
  "kernelspec": {
   "display_name": "Python 3",
   "language": "python",
   "name": "python3"
  },
  "language_info": {
   "codemirror_mode": {
    "name": "ipython",
    "version": 3
   },
   "file_extension": ".py",
   "mimetype": "text/x-python",
   "name": "python",
   "nbconvert_exporter": "python",
   "pygments_lexer": "ipython3",
   "version": "3.8.8"
  }
 },
 "nbformat": 4,
 "nbformat_minor": 5
}
